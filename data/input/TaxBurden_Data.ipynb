{
 "cells": [
  {
   "cell_type": "markdown",
   "metadata": {},
   "source": [
    "Clean and Analyze CDC Data "
   ]
  },
  {
   "cell_type": "code",
   "execution_count": 67,
   "metadata": {},
   "outputs": [
    {
     "name": "stderr",
     "output_type": "stream",
     "text": [
      "/opt/anaconda3/lib/python3.12/site-packages/openpyxl/styles/stylesheet.py:237: UserWarning: Workbook contains no default style, apply openpyxl's default\n",
      "  warn(\"Workbook contains no default style, apply openpyxl's default\")\n"
     ]
    }
   ],
   "source": [
    "import pandas as pd\n",
    "\n",
    "# Load Data\n",
    "cig_data = pd.read_csv(\"/Users/kathrynmawhinney/Documents/GitHub/Homework3/data/input/CDC_1970-2018.csv\")\n",
    "cpi_data = pd.read_excel(\"/Users/kathrynmawhinney/Documents/GitHub/Homework3/data/input/CPI_1913_2019.xlsx\", skiprows=11)\n",
    "\n",
    "# Clean Tobacco Data\n",
    "measure_mapping = {\n",
    "    \"Average Cost per pack\": \"cost_per_pack\",\n",
    "    \"Cigarette Consumption (Pack Sales Per Capita)\": \"sales_per_capita\",\n",
    "    \"Federal and State tax as a Percentage of Retail Price\": \"tax_percent\",\n",
    "    \"Federal and State Tax per pack\": \"tax_dollar\",\n",
    "    \"Gross Cigarette Tax Revenue\": \"tax_revenue\",\n",
    "    \"State Tax per pack\": \"tax_state\"\n",
    "}\n",
    "\n",
    "cig_data[\"measure\"] = cig_data[\"SubMeasureDesc\"].map(measure_mapping)\n",
    "\n",
    "cig_data = cig_data.rename(columns={\n",
    "    \"LocationAbbr\": \"state_abb\",\n",
    "    \"LocationDesc\": \"state\",\n",
    "    \"Data_Value\": \"value\"\n",
    "}).filter([\"state_abb\", \"state\", \"Year\", \"measure\", \"value\"])\n",
    "\n",
    "# Pivot Tobacco Data\n",
    "final_data = cig_data.pivot(index=[\"state\", \"Year\"], columns=\"measure\", values=\"value\").reset_index()\n",
    "\n",
    "# Clean CPI Data\n",
    "cpi_data = cpi_data.melt(id_vars=[\"Year\"], \n",
    "                          value_vars=[\"Jan\", \"Feb\", \"Mar\", \"Apr\", \"May\", \"Jun\", \"Jul\", \"Aug\", \"Sep\", \"Oct\", \"Nov\", \"Dec\"], \n",
    "                          var_name=\"month\", \n",
    "                          value_name=\"index\")\n",
    "\n",
    "cpi_data = cpi_data.groupby(\"Year\", as_index=False).agg({\"index\": \"mean\"})\n",
    "\n",
    "# Merge CPI Data and Adjust Prices to 2010 Dollars\n",
    "final_data = final_data.merge(cpi_data, on=\"Year\", how=\"left\")\n",
    "final_data[\"price_cpi\"] = final_data[\"cost_per_pack\"] * (218 / final_data[\"index\"])\n",
    "\n",
    "# Save Processed Data\n",
    "final_data.to_csv(\"/Users/kathrynmawhinney/Documents/GitHub/Homework3/data/output/TaxBurden_Data.txt\", sep=\"\\t\", index=False)\n",
    "final_data.to_pickle(\"/Users/kathrynmawhinney/Documents/GitHub/Homework3/data/output/TaxBurden_Data.pkl\")\n"
   ]
  }
 ],
 "metadata": {
  "kernelspec": {
   "display_name": "base",
   "language": "python",
   "name": "python3"
  },
  "language_info": {
   "codemirror_mode": {
    "name": "ipython",
    "version": 3
   },
   "file_extension": ".py",
   "mimetype": "text/x-python",
   "name": "python",
   "nbconvert_exporter": "python",
   "pygments_lexer": "ipython3",
   "version": "3.12.7"
  }
 },
 "nbformat": 4,
 "nbformat_minor": 2
}
